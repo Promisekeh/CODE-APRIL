{
 "cells": [
  {
   "cell_type": "markdown",
   "metadata": {},
   "source": [
    "# CODE APRIL\n",
    "Created_by: Promise Ekeh\n",
    "\n",
    "Date: April 2024\n",
    "\n",
    "Week 2 ( Day 8- day 14)"
   ]
  },
  {
   "cell_type": "code",
   "execution_count": 1,
   "metadata": {},
   "outputs": [],
   "source": [
    "import pandas as pd"
   ]
  },
  {
   "cell_type": "markdown",
   "metadata": {},
   "source": [
    "# Day 8:\n",
    "\n",
    "Python dictionary methods\n"
   ]
  },
  {
   "cell_type": "markdown",
   "metadata": {},
   "source": [
    "## 1. What is a dictionary in Python? How is it different from a list?\n",
    "A dictionary in Python is a collection of key-value pairs. Each key is unique, and it maps to a value. \n",
    "\n",
    "Dictionaries are mutable, meaning they can be changed after creation, and they are unordered, meaning the items do not have a specific order\n",
    "\n",
    "\n",
    "**Key Features of a Dictionary:**\n",
    "\n",
    "Key-Value Pairs: Each item in a dictionary is a pair of keys and values.\n",
    "Unique Keys: Keys in a dictionary must be unique and immutable (e.g., strings, numbers, tuples).\n",
    "Mutable: Dictionaries can be modified by adding, updating, or removing key-value pairs.\n",
    "Unordered: Dictionaries do not maintain any order for the elements.\n",
    "\n",
    "**Differences Between a Dictionary and a List:**\n",
    "\n",
    "Structure: Lists are ordered collections of elements indexed by positions (integers starting from 0), whereas dictionaries are unordered collections of key-value pairs.\n",
    "Access: List elements are accessed by their index, while dictionary elements are accessed by their keys."
   ]
  },
  {
   "cell_type": "markdown",
   "metadata": {},
   "source": [
    "## 2. Write a Python code snippet to demonstrate at least two dictionary methods.\n"
   ]
  },
  {
   "cell_type": "code",
   "execution_count": null,
   "metadata": {},
   "outputs": [],
   "source": []
  },
  {
   "cell_type": "markdown",
   "metadata": {},
   "source": [
    "## 3. Create a dictionary inventory representing the count of first ten (10)  items in a store: \n",
    "\n",
    "eg ('apple': 10 'banana': 15,  'orange': 8). \n"
   ]
  },
  {
   "cell_type": "code",
   "execution_count": 1,
   "metadata": {},
   "outputs": [
    {
     "data": {
      "text/plain": [
       "{'apple': 10,\n",
       " 'banana': 15,\n",
       " 'orange': 8,\n",
       " 'grape': 12,\n",
       " 'mango': 5,\n",
       " 'pear': 7,\n",
       " 'peach': 9,\n",
       " 'plum': 4,\n",
       " 'kiwi': 3,\n",
       " 'pineapple': 6}"
      ]
     },
     "execution_count": 1,
     "metadata": {},
     "output_type": "execute_result"
    }
   ],
   "source": [
    "inventory = {\n",
    "    'apple': 10,\n",
    "    'banana': 15,\n",
    "    'orange': 8,\n",
    "    'grape': 12,\n",
    "    'mango': 5,\n",
    "    'pear': 7,\n",
    "    'peach': 9,\n",
    "    'plum': 4,\n",
    "    'kiwi': 3,\n",
    "    'pineapple': 6\n",
    "}\n",
    "inventory"
   ]
  },
  {
   "cell_type": "code",
   "execution_count": 2,
   "metadata": {},
   "outputs": [
    {
     "data": {
      "text/plain": [
       "9"
      ]
     },
     "execution_count": 2,
     "metadata": {},
     "output_type": "execute_result"
    }
   ],
   "source": [
    "\n",
    "# Removing the 7th item (peach)\n",
    "inventory.pop('peach')\n"
   ]
  },
  {
   "cell_type": "code",
   "execution_count": 3,
   "metadata": {},
   "outputs": [
    {
     "data": {
      "text/plain": [
       "{'apple': 10,\n",
       " 'banana': 15,\n",
       " 'orange': 8,\n",
       " 'grape': 12,\n",
       " 'mango': 5,\n",
       " 'pear': 7,\n",
       " 'plum': 4,\n",
       " 'kiwi': 3,\n",
       " 'pineapple': 6}"
      ]
     },
     "execution_count": 3,
     "metadata": {},
     "output_type": "execute_result"
    }
   ],
   "source": [
    "inventory"
   ]
  },
  {
   "cell_type": "code",
   "execution_count": 4,
   "metadata": {},
   "outputs": [
    {
     "data": {
      "text/plain": [
       "dict_keys(['apple', 'banana', 'orange', 'grape', 'mango', 'pear', 'plum', 'kiwi', 'pineapple'])"
      ]
     },
     "execution_count": 4,
     "metadata": {},
     "output_type": "execute_result"
    }
   ],
   "source": [
    "\n",
    "# Calculating the total count of items in the dictionary\n",
    "\n",
    "inventory.keys()\n"
   ]
  },
  {
   "cell_type": "code",
   "execution_count": 5,
   "metadata": {},
   "outputs": [
    {
     "data": {
      "text/plain": [
       "dict_values([10, 15, 8, 12, 5, 7, 4, 3, 6])"
      ]
     },
     "execution_count": 5,
     "metadata": {},
     "output_type": "execute_result"
    }
   ],
   "source": [
    "inventory.values()"
   ]
  },
  {
   "cell_type": "code",
   "execution_count": 6,
   "metadata": {},
   "outputs": [
    {
     "data": {
      "text/plain": [
       "70"
      ]
     },
     "execution_count": 6,
     "metadata": {},
     "output_type": "execute_result"
    }
   ],
   "source": [
    "sum(inventory.values())"
   ]
  },
  {
   "cell_type": "code",
   "execution_count": 7,
   "metadata": {},
   "outputs": [
    {
     "data": {
      "text/plain": [
       "{'apple': 15,\n",
       " 'banana': 15,\n",
       " 'orange': 8,\n",
       " 'grape': 12,\n",
       " 'mango': 5,\n",
       " 'pear': 7,\n",
       " 'plum': 4,\n",
       " 'kiwi': 3,\n",
       " 'pineapple': 6}"
      ]
     },
     "execution_count": 7,
     "metadata": {},
     "output_type": "execute_result"
    }
   ],
   "source": [
    "# Add 5 more of the first items,\n",
    "inventory['apple'] += 5\n",
    "inventory"
   ]
  },
  {
   "cell_type": "code",
   "execution_count": 8,
   "metadata": {},
   "outputs": [
    {
     "data": {
      "text/plain": [
       "{'apple': 15,\n",
       " 'banana': 15,\n",
       " 'orange': 8,\n",
       " 'grape': 12,\n",
       " 'mango': 5,\n",
       " 'pear': 10,\n",
       " 'plum': 4,\n",
       " 'kiwi': 3,\n",
       " 'pineapple': 6}"
      ]
     },
     "execution_count": 8,
     "metadata": {},
     "output_type": "execute_result"
    }
   ],
   "source": [
    "#  3 more of the 6th item \n",
    "inventory['pear'] += 3\n",
    "inventory"
   ]
  },
  {
   "cell_type": "code",
   "execution_count": 9,
   "metadata": {},
   "outputs": [
    {
     "data": {
      "text/plain": [
       "3"
      ]
     },
     "execution_count": 9,
     "metadata": {},
     "output_type": "execute_result"
    }
   ],
   "source": [
    "# and remove the 7th item from the dictionary. \n",
    "inventory.pop('kiwi')\n",
    "\n"
   ]
  },
  {
   "cell_type": "code",
   "execution_count": 10,
   "metadata": {},
   "outputs": [
    {
     "data": {
      "text/plain": [
       "{'apple': 15,\n",
       " 'banana': 15,\n",
       " 'orange': 8,\n",
       " 'grape': 12,\n",
       " 'mango': 5,\n",
       " 'pear': 10,\n",
       " 'plum': 4,\n",
       " 'pineapple': 6}"
      ]
     },
     "execution_count": 10,
     "metadata": {},
     "output_type": "execute_result"
    }
   ],
   "source": [
    "inventory"
   ]
  },
  {
   "cell_type": "code",
   "execution_count": 11,
   "metadata": {},
   "outputs": [
    {
     "name": "stdout",
     "output_type": "stream",
     "text": [
      "Total count of items in the inventory: 75\n"
     ]
    }
   ],
   "source": [
    "# Print the total count of items in the dictionary.\n",
    "total_count = sum(inventory.values())\n",
    "print(f\"Total count of items in the inventory: {total_count}\")"
   ]
  },
  {
   "cell_type": "markdown",
   "metadata": {},
   "source": [
    "# Day 9:\n",
    "\n",
    "Python tuple & set methods\n"
   ]
  },
  {
   "cell_type": "markdown",
   "metadata": {},
   "source": [
    "## 1. What is a tuple & set  in Python? How are they different from a list?\n",
    "\n",
    "\n",
    "A tuple is an immutable, ordered collection of elements in Python. Once a tuple is created, its elements cannot be modified. Tuples are defined using parentheses ().\n",
    "\n",
    "**Key Features:**\n",
    "\n",
    "* Immutable: Once created, the elements of a tuple cannot be changed.\n",
    "* Ordered: The elements in a tuple have a defined order.\n",
    "* Heterogeneous: A tuple can contain elements of different data types.\n",
    "\n",
    "\n",
    "A set is an unordered collection of unique elements in Python. Sets are defined using curly braces {} or the set() function.\n",
    "\n",
    "**Key Features:**\n",
    "* Unique Elements: Duplicate elements are not allowed in a set.\n",
    "* Unordered: The elements in a set do not have a defined order.\n",
    "* Mutable: Elements can be added or removed from a set.\n",
    "\n",
    "\n",
    "\n",
    "**Differences Between Tuples, Sets, and Lists:**\n",
    "\n",
    "__Mutability:__\n",
    "* Lists are mutable (elements can be changed).\n",
    "* Tuples are immutable (elements cannot be changed).\n",
    "* Sets are mutable but do not allow duplicate elements.\n",
    "\n",
    "__Order:__\n",
    "\n",
    "* Lists and tuples are ordered (elements have a defined order).\n",
    "* Sets are unordered (elements do not have a defined order).\n",
    "\n",
    "__Syntax:__\n",
    "\n",
    "*  Lists use square brackets [].\n",
    "*  Tuples use parentheses ().\n",
    "*  Sets use curly braces {}."
   ]
  },
  {
   "cell_type": "markdown",
   "metadata": {},
   "source": [
    "## 2. Create a tuple my_tuple containing a sequence of 15 integers.\n"
   ]
  },
  {
   "cell_type": "code",
   "execution_count": 13,
   "metadata": {},
   "outputs": [
    {
     "data": {
      "text/plain": [
       "(12, 2, 3, 8, 5, 6, 7, 8, 12, 10, 8, 12, 6, 14, 3)"
      ]
     },
     "execution_count": 13,
     "metadata": {},
     "output_type": "execute_result"
    }
   ],
   "source": [
    "my_tuple = (12, 2, 3, 8, 5, 6, 7, 8, 12, 10, 8, 12, 6, 14, 3)\n",
    "my_tuple"
   ]
  },
  {
   "cell_type": "markdown",
   "metadata": {},
   "source": [
    "### 2a Print the original tuple, \n"
   ]
  },
  {
   "cell_type": "code",
   "execution_count": 14,
   "metadata": {},
   "outputs": [
    {
     "name": "stdout",
     "output_type": "stream",
     "text": [
      "(12, 2, 3, 8, 5, 6, 7, 8, 12, 10, 8, 12, 6, 14, 3)\n"
     ]
    }
   ],
   "source": [
    "print(my_tuple)"
   ]
  },
  {
   "cell_type": "markdown",
   "metadata": {},
   "source": [
    "### 2b Use the count() method to count the number of occurrences of a specified integer in the tuple.\n"
   ]
  },
  {
   "cell_type": "code",
   "execution_count": 15,
   "metadata": {},
   "outputs": [
    {
     "name": "stdout",
     "output_type": "stream",
     "text": [
      "Number of occurrences of 12 in the tuple: 3\n"
     ]
    }
   ],
   "source": [
    "count_12 = my_tuple.count(12)\n",
    "print(\"Number of occurrences of 12 in the tuple:\", count_12)"
   ]
  },
  {
   "cell_type": "markdown",
   "metadata": {},
   "source": [
    "### 2c Use tuple concatenation (+) to create a new tuple by combining my_tuple with another tuple of your choice.\n"
   ]
  },
  {
   "cell_type": "code",
   "execution_count": 16,
   "metadata": {},
   "outputs": [],
   "source": [
    "another_tuple = (16, 17, 18)\n",
    "new_tuple = my_tuple + another_tuple"
   ]
  },
  {
   "cell_type": "markdown",
   "metadata": {},
   "source": [
    "### 2d Print the modified tuple after concatenation.\n"
   ]
  },
  {
   "cell_type": "code",
   "execution_count": 17,
   "metadata": {},
   "outputs": [
    {
     "name": "stdout",
     "output_type": "stream",
     "text": [
      "Modified tuple after concatenation: (12, 2, 3, 8, 5, 6, 7, 8, 12, 10, 8, 12, 6, 14, 3, 16, 17, 18)\n"
     ]
    }
   ],
   "source": [
    "print(\"Modified tuple after concatenation:\", new_tuple)"
   ]
  },
  {
   "cell_type": "markdown",
   "metadata": {},
   "source": [
    "## 3. Create two sets set1 and set2 containing integers or strings.\n"
   ]
  },
  {
   "cell_type": "code",
   "execution_count": 18,
   "metadata": {},
   "outputs": [],
   "source": [
    "set1 = {1, 2, 3, 4, 5}\n",
    "set2 = {4, 5, 6, 7, 8}"
   ]
  },
  {
   "cell_type": "markdown",
   "metadata": {},
   "source": [
    "### 3a Print the union of set1 and set2 using the | operator.\n"
   ]
  },
  {
   "cell_type": "code",
   "execution_count": 19,
   "metadata": {},
   "outputs": [
    {
     "name": "stdout",
     "output_type": "stream",
     "text": [
      "Union of set1 and set2: {1, 2, 3, 4, 5, 6, 7, 8}\n"
     ]
    }
   ],
   "source": [
    "union_set = set1 | set2\n",
    "print(\"Union of set1 and set2:\", union_set)"
   ]
  },
  {
   "cell_type": "markdown",
   "metadata": {},
   "source": [
    "### 3b Print the intersection of set1 and set2 using the & operator.\n"
   ]
  },
  {
   "cell_type": "code",
   "execution_count": 20,
   "metadata": {},
   "outputs": [
    {
     "name": "stdout",
     "output_type": "stream",
     "text": [
      "Intersection of set1 and set2: {4, 5}\n"
     ]
    }
   ],
   "source": [
    "intersection_set = set1 & set2\n",
    "print(\"Intersection of set1 and set2:\", intersection_set)"
   ]
  },
  {
   "cell_type": "markdown",
   "metadata": {},
   "source": [
    "### 3c Print the difference between set1 and set2 using the - operator.\n"
   ]
  },
  {
   "cell_type": "code",
   "execution_count": 21,
   "metadata": {},
   "outputs": [
    {
     "name": "stdout",
     "output_type": "stream",
     "text": [
      "Difference between set1 and set2: {1, 2, 3}\n"
     ]
    }
   ],
   "source": [
    "difference_set = set1 - set2\n",
    "print(\"Difference between set1 and set2:\", difference_set)"
   ]
  },
  {
   "cell_type": "code",
   "execution_count": 14,
   "metadata": {},
   "outputs": [
    {
     "name": "stdout",
     "output_type": "stream",
     "text": [
      "Difference between set1 and set2: {8, 6, 7}\n"
     ]
    }
   ],
   "source": [
    "difference_set2 = set2 - set1\n",
    "print(\"Difference between set1 and set2:\", difference_set2)"
   ]
  },
  {
   "cell_type": "markdown",
   "metadata": {},
   "source": [
    "### 3d Add new elements to set1 using the add() method and remove specific elements using the remove() method.\n"
   ]
  },
  {
   "cell_type": "code",
   "execution_count": 15,
   "metadata": {},
   "outputs": [
    {
     "name": "stdout",
     "output_type": "stream",
     "text": [
      "set1 after adding new elements: {1, 2, 3, 4, 5, 9, 10}\n"
     ]
    }
   ],
   "source": [
    "set1.add(9)\n",
    "set1.add(10)\n",
    "print(\"set1 after adding new elements:\", set1)"
   ]
  },
  {
   "cell_type": "code",
   "execution_count": 16,
   "metadata": {},
   "outputs": [
    {
     "name": "stdout",
     "output_type": "stream",
     "text": [
      "set1 after removing an element: {2, 3, 4, 5, 9, 10}\n"
     ]
    }
   ],
   "source": [
    "set1.remove(1)\n",
    "print(\"set1 after removing an element:\", set1)"
   ]
  },
  {
   "cell_type": "markdown",
   "metadata": {},
   "source": [
    "# Day 10\n",
    "\n",
    "Advanced control flow (list comprehensions, lambda functions)\n"
   ]
  },
  {
   "cell_type": "markdown",
   "metadata": {},
   "source": [
    "## 1. Explain what list comprehensions are in Python. Provide an example\n",
    "\n",
    "\n",
    "List comprehensions provide a concise way to create lists in Python. They consist of brackets containing an expression followed by a for clause, and can also include if clauses. List comprehensions are more compact and faster than traditional for loops for creating lists.\n",
    "\n",
    "[expression for item in iterable if condition]\n"
   ]
  },
  {
   "cell_type": "code",
   "execution_count": null,
   "metadata": {},
   "outputs": [],
   "source": []
  },
  {
   "cell_type": "markdown",
   "metadata": {},
   "source": [
    "## 2. What are lambda functions (anonymous functions) in Python? \n",
    "\n",
    "Lambda functions, also known as anonymous functions, are small, unnamed functions defined using the lambda keyword. They can have any number of arguments but only one expression. Lambda functions are often used for short, throwaway functions.\n",
    "\n",
    "lambda arguments: expression\n",
    "\n",
    "__Give an example of using lambda functions__\n"
   ]
  },
  {
   "cell_type": "code",
   "execution_count": 17,
   "metadata": {},
   "outputs": [
    {
     "name": "stdout",
     "output_type": "stream",
     "text": [
      "25\n"
     ]
    }
   ],
   "source": [
    "# Using a lambda function to create a function that squares a number\n",
    "square = lambda x: x**2\n",
    "print(square(5))  # Output: 25\n"
   ]
  },
  {
   "cell_type": "markdown",
   "metadata": {},
   "source": [
    "## 3. Write Python expressions using list comprehensions to achieve the following:\n",
    "### 3a Create a list containing the squares of numbers from 1 to 10\n"
   ]
  },
  {
   "cell_type": "code",
   "execution_count": 18,
   "metadata": {},
   "outputs": [
    {
     "name": "stdout",
     "output_type": "stream",
     "text": [
      "[1, 4, 9, 16, 25, 36, 49, 64, 81, 100]\n"
     ]
    }
   ],
   "source": [
    "# Creating a list of squares of numbers from 1 to 10 using list comprehension\n",
    "squares = [x**2 for x in range(1, 11)]\n",
    "print(squares)"
   ]
  },
  {
   "cell_type": "markdown",
   "metadata": {},
   "source": [
    "### 3b Create a list containing even numbers less than 20 \n"
   ]
  },
  {
   "cell_type": "code",
   "execution_count": 19,
   "metadata": {},
   "outputs": [
    {
     "name": "stdout",
     "output_type": "stream",
     "text": [
      "[0, 2, 4, 6, 8, 10, 12, 14, 16, 18]\n"
     ]
    }
   ],
   "source": [
    "even_numbers = [x for x in range(20) if x % 2 == 0]\n",
    "print(even_numbers) "
   ]
  },
  {
   "cell_type": "markdown",
   "metadata": {},
   "source": [
    "## 4. Create a list of ten animals and return a list of animals with more that 4 letter\n"
   ]
  },
  {
   "cell_type": "code",
   "execution_count": 22,
   "metadata": {},
   "outputs": [
    {
     "name": "stdout",
     "output_type": "stream",
     "text": [
      "['elephant', 'giraffe', 'tiger', 'rabbit', 'zebra']\n"
     ]
    }
   ],
   "source": [
    "animals = ['cat', 'dog', 'elephant', 'giraffe', 'lion', 'tiger', 'bear', 'rabbit', 'fox', 'zebra']\n",
    "\n",
    "# Using list comprehension to get animals with more than 4 letters\n",
    "long_named_animals = [an for an in animals if len(an) > 4]\n",
    "print(long_named_animals)"
   ]
  },
  {
   "cell_type": "markdown",
   "metadata": {},
   "source": [
    "## 5. Create a list temperatures_celsius containing 10 numbers, \n",
    "\n",
    "using list comprehension"
   ]
  },
  {
   "cell_type": "code",
   "execution_count": 24,
   "metadata": {},
   "outputs": [],
   "source": [
    "temperatures_celsius = [-10, -25, 15, 20, 25, 30, 35, 40, 45, 50]"
   ]
  },
  {
   "cell_type": "markdown",
   "metadata": {},
   "source": [
    "### 5a  convert each temperature in Fahrenheit & store in temperatures_fahrenheit\n",
    "\n",
    "---\n",
    "$celcius  *  9 /5 + 32 $ \n"
   ]
  },
  {
   "cell_type": "code",
   "execution_count": 25,
   "metadata": {},
   "outputs": [
    {
     "name": "stdout",
     "output_type": "stream",
     "text": [
      "[14.0, -13.0, 59.0, 68.0, 77.0, 86.0, 95.0, 104.0, 113.0, 122.0]\n"
     ]
    }
   ],
   "source": [
    "temperatures_fahrenheit = [(temp * 9/5) + 32 for temp in temperatures_celsius]\n",
    "print(temperatures_fahrenheit) "
   ]
  },
  {
   "cell_type": "markdown",
   "metadata": {},
   "source": [
    "### 5b Store the temperatures that are greater than or equal to 28 degrees Fahrenheit a new list called warm_temperatures\n"
   ]
  },
  {
   "cell_type": "code",
   "execution_count": 26,
   "metadata": {},
   "outputs": [
    {
     "name": "stdout",
     "output_type": "stream",
     "text": [
      "[59.0, 68.0, 77.0, 86.0, 95.0, 104.0, 113.0, 122.0]\n"
     ]
    }
   ],
   "source": [
    "# using list comprehension\n",
    "warm_temperatures = [temp for temp in temperatures_fahrenheit if temp >= 28]\n",
    "print(warm_temperatures) "
   ]
  },
  {
   "cell_type": "code",
   "execution_count": 27,
   "metadata": {},
   "outputs": [],
   "source": [
    "# using lambda\n",
    "warm_temperatures = list(filter(lambda temp: temp >= 28, temperatures_fahrenheit))"
   ]
  },
  {
   "cell_type": "markdown",
   "metadata": {},
   "source": [
    "### 5c Using lambda function square all the items in temperatures_fahrenheit "
   ]
  },
  {
   "cell_type": "code",
   "execution_count": 28,
   "metadata": {},
   "outputs": [
    {
     "name": "stdout",
     "output_type": "stream",
     "text": [
      "[196.0, 169.0, 3481.0, 4624.0, 5929.0, 7396.0, 9025.0, 10816.0, 12769.0, 14884.0]\n"
     ]
    }
   ],
   "source": [
    "squared_temperatures = list(map(lambda x: x**2, temperatures_fahrenheit))\n",
    "print(squared_temperatures) "
   ]
  },
  {
   "cell_type": "code",
   "execution_count": 29,
   "metadata": {},
   "outputs": [
    {
     "data": {
      "text/plain": [
       "[196.0,\n",
       " 169.0,\n",
       " 3481.0,\n",
       " 4624.0,\n",
       " 5929.0,\n",
       " 7396.0,\n",
       " 9025.0,\n",
       " 10816.0,\n",
       " 12769.0,\n",
       " 14884.0]"
      ]
     },
     "execution_count": 29,
     "metadata": {},
     "output_type": "execute_result"
    }
   ],
   "source": [
    "[temp**2 for temp in temperatures_fahrenheit]"
   ]
  },
  {
   "cell_type": "markdown",
   "metadata": {},
   "source": [
    "# Day 11:\n",
    "\n",
    "Introduction to NumPy library for numerical computing\n"
   ]
  },
  {
   "cell_type": "markdown",
   "metadata": {},
   "source": [
    "## 1. What is NumPy? Why is it widely used in data analysis?\n",
    "\n",
    "NumPy (Numerical Python) is a fundamental and powerful library in Python used for numerical computations and working with large, multi-dimensional arrays and matrices. It provides efficient implementations of mathematical functions that operate on arrays. making it a fundamental library for scientific computing in Python\n",
    "\n",
    "\n",
    "Performance: NumPy arrays are more efficient than Python lists for numerical computations because they are implemented in C, allowing for faster processing.\n",
    "\n",
    "Functionality: NumPy offers a comprehensive library of mathematical functions, including linear algebra, statistical operations, and Fourier transforms.\n",
    "\n",
    "Convenience: NumPy arrays provide more convenient and readable syntax for array operations, especially for complex operations involving multi-dimensional arrays.\n"
   ]
  },
  {
   "cell_type": "markdown",
   "metadata": {},
   "source": [
    "## 2. Describe three advantages of using NumPy arrays over Python lists for numerical computing\n",
    "\n",
    "\n",
    "**Speed:** NumPy arrays are optimized for performance with vectorized operations that are significantly faster than traditional Python loops. This results in faster execution times for large-scale numerical computations.\n",
    "\n",
    "Memory Efficiency: NumPy arrays use less memory compared to Python lists. They store elements of the same type in contiguous memory locations, reducing overhead and improving cache performance.\n",
    "Advanced Mathematical Functions: NumPy provides a wide range of powerful mathematical functions that are not available with Python lists. These functions are optimized for performance and can be applied directly to arrays, making numerical computations more straightforward and efficient."
   ]
  },
  {
   "cell_type": "markdown",
   "metadata": {},
   "source": [
    "## 3. Write a Python code to import NumPy and print its version.\n"
   ]
  },
  {
   "cell_type": "code",
   "execution_count": 30,
   "metadata": {},
   "outputs": [
    {
     "name": "stdout",
     "output_type": "stream",
     "text": [
      "NumPy version: 1.26.4\n"
     ]
    }
   ],
   "source": [
    "import numpy as np\n",
    "\n",
    "# Printing the version of NumPy\n",
    "print(\"NumPy version:\", np.__version__)\n"
   ]
  },
  {
   "cell_type": "markdown",
   "metadata": {},
   "source": [
    "## 4. Create a list of 12 integers, using NumPy do the following:\n"
   ]
  },
  {
   "cell_type": "code",
   "execution_count": 31,
   "metadata": {},
   "outputs": [],
   "source": [
    "\n",
    "python_list = [1, 2, 3, 4, 5, 6, 7, 8, 9, 10, 11, 12]"
   ]
  },
  {
   "cell_type": "markdown",
   "metadata": {},
   "source": [
    "### 4a Create a NumPy array from the Python list\n"
   ]
  },
  {
   "cell_type": "code",
   "execution_count": 32,
   "metadata": {},
   "outputs": [
    {
     "name": "stdout",
     "output_type": "stream",
     "text": [
      "1D NumPy array: [ 1  2  3  4  5  6  7  8  9 10 11 12]\n"
     ]
    }
   ],
   "source": [
    "numpy_array = np.array(python_list)\n",
    "print(\"1D NumPy array:\", numpy_array)"
   ]
  },
  {
   "cell_type": "code",
   "execution_count": 33,
   "metadata": {},
   "outputs": [
    {
     "data": {
      "text/plain": [
       "numpy.ndarray"
      ]
     },
     "execution_count": 33,
     "metadata": {},
     "output_type": "execute_result"
    }
   ],
   "source": [
    "type(numpy_array)"
   ]
  },
  {
   "cell_type": "code",
   "execution_count": 35,
   "metadata": {},
   "outputs": [
    {
     "data": {
      "text/plain": [
       "1"
      ]
     },
     "execution_count": 35,
     "metadata": {},
     "output_type": "execute_result"
    }
   ],
   "source": [
    "numpy_array.ndim"
   ]
  },
  {
   "cell_type": "code",
   "execution_count": 30,
   "metadata": {},
   "outputs": [
    {
     "name": "stdout",
     "output_type": "stream",
     "text": [
      "Type 1D NumPy array: <class 'numpy.ndarray'>\n"
     ]
    }
   ],
   "source": [
    "print(\"Type 1D NumPy array:\", type(numpy_array))"
   ]
  },
  {
   "cell_type": "markdown",
   "metadata": {},
   "source": [
    "### 4b Create a 2D NumPy array (matrix) from a nested Python list\n"
   ]
  },
  {
   "cell_type": "code",
   "execution_count": 36,
   "metadata": {},
   "outputs": [
    {
     "data": {
      "text/plain": [
       "[[1, 2, 3], [4, 5, 6], [7, 8, 9], [10, 11, 12]]"
      ]
     },
     "execution_count": 36,
     "metadata": {},
     "output_type": "execute_result"
    }
   ],
   "source": [
    "nested_list = [[1, 2, 3], [4, 5, 6], [7, 8, 9], [10, 11, 12]]\n",
    "nested_list"
   ]
  },
  {
   "cell_type": "code",
   "execution_count": 37,
   "metadata": {},
   "outputs": [
    {
     "data": {
      "text/plain": [
       "array([[ 1,  2,  3],\n",
       "       [ 4,  5,  6],\n",
       "       [ 7,  8,  9],\n",
       "       [10, 11, 12]])"
      ]
     },
     "execution_count": 37,
     "metadata": {},
     "output_type": "execute_result"
    }
   ],
   "source": [
    "\n",
    "# Creating a 2D NumPy array from the nested Python list\n",
    "numpy_2d_array = np.array(nested_list)\n",
    "# print(\"2D NumPy array:\\n\", numpy_2d_array)\n",
    "numpy_2d_array"
   ]
  },
  {
   "cell_type": "code",
   "execution_count": 38,
   "metadata": {},
   "outputs": [
    {
     "data": {
      "text/plain": [
       "2"
      ]
     },
     "execution_count": 38,
     "metadata": {},
     "output_type": "execute_result"
    }
   ],
   "source": [
    "numpy_2d_array.ndim"
   ]
  },
  {
   "cell_type": "markdown",
   "metadata": {},
   "source": [
    "### 4c Reshape the  1D to 3D\n"
   ]
  },
  {
   "cell_type": "code",
   "execution_count": 39,
   "metadata": {},
   "outputs": [
    {
     "data": {
      "text/plain": [
       "array([ 1,  2,  3,  4,  5,  6,  7,  8,  9, 10, 11, 12])"
      ]
     },
     "execution_count": 39,
     "metadata": {},
     "output_type": "execute_result"
    }
   ],
   "source": [
    "numpy_array"
   ]
  },
  {
   "cell_type": "code",
   "execution_count": 40,
   "metadata": {},
   "outputs": [
    {
     "data": {
      "text/plain": [
       "array([[[ 1,  2],\n",
       "        [ 3,  4],\n",
       "        [ 5,  6]],\n",
       "\n",
       "       [[ 7,  8],\n",
       "        [ 9, 10],\n",
       "        [11, 12]]])"
      ]
     },
     "execution_count": 40,
     "metadata": {},
     "output_type": "execute_result"
    }
   ],
   "source": [
    "numpy_array.reshape((2, 3, 2))"
   ]
  },
  {
   "cell_type": "code",
   "execution_count": 32,
   "metadata": {},
   "outputs": [
    {
     "name": "stdout",
     "output_type": "stream",
     "text": [
      "3D NumPy array:\n",
      " [[[ 1  2]\n",
      "  [ 3  4]\n",
      "  [ 5  6]]\n",
      "\n",
      " [[ 7  8]\n",
      "  [ 9 10]\n",
      "  [11 12]]]\n"
     ]
    }
   ],
   "source": [
    "numpy_3d_array = numpy_array.reshape((2, 3, 2))\n",
    "print(\"3D NumPy array:\\n\", numpy_3d_array)"
   ]
  },
  {
   "cell_type": "markdown",
   "metadata": {},
   "source": [
    "## 5. Create a 3D NumPy array (matrix) from a nested Python list\n"
   ]
  },
  {
   "cell_type": "code",
   "execution_count": 41,
   "metadata": {},
   "outputs": [
    {
     "name": "stdout",
     "output_type": "stream",
     "text": [
      "3D NumPy array from nested list:\n",
      " [[[ 1  2]\n",
      "  [ 3  4]\n",
      "  [ 5  6]]\n",
      "\n",
      " [[ 7  8]\n",
      "  [ 9 10]\n",
      "  [11 12]]]\n"
     ]
    }
   ],
   "source": [
    "nested_3d_list = [\n",
    "    [[1, 2], [3, 4], [5, 6]],\n",
    "    [[7, 8], [9, 10], [11, 12]]\n",
    "]\n",
    "\n",
    "# Creating a 3D NumPy array from the nested Python list\n",
    "numpy_3d_array_from_list = np.array(nested_3d_list)\n",
    "print(\"3D NumPy array from nested list:\\n\", numpy_3d_array_from_list)\n"
   ]
  },
  {
   "cell_type": "code",
   "execution_count": 42,
   "metadata": {},
   "outputs": [
    {
     "data": {
      "text/plain": [
       "(2, 3, 2)"
      ]
     },
     "execution_count": 42,
     "metadata": {},
     "output_type": "execute_result"
    }
   ],
   "source": [
    "numpy_3d_array_from_list.shape"
   ]
  },
  {
   "cell_type": "code",
   "execution_count": 43,
   "metadata": {},
   "outputs": [
    {
     "data": {
      "text/plain": [
       "3"
      ]
     },
     "execution_count": 43,
     "metadata": {},
     "output_type": "execute_result"
    }
   ],
   "source": [
    "numpy_3d_array_from_list.ndim"
   ]
  },
  {
   "cell_type": "markdown",
   "metadata": {},
   "source": [
    "## 6. Create a NumPy array of zeros and ones\n"
   ]
  },
  {
   "cell_type": "code",
   "execution_count": 44,
   "metadata": {},
   "outputs": [
    {
     "data": {
      "text/plain": [
       "array([[0., 0., 0., 0.],\n",
       "       [0., 0., 0., 0.],\n",
       "       [0., 0., 0., 0.]])"
      ]
     },
     "execution_count": 44,
     "metadata": {},
     "output_type": "execute_result"
    }
   ],
   "source": [
    "np.zeros((3, 4))"
   ]
  },
  {
   "cell_type": "code",
   "execution_count": 34,
   "metadata": {},
   "outputs": [
    {
     "name": "stdout",
     "output_type": "stream",
     "text": [
      "NumPy array of zeros:\n",
      " [[0. 0. 0. 0.]\n",
      " [0. 0. 0. 0.]\n",
      " [0. 0. 0. 0.]]\n"
     ]
    }
   ],
   "source": [
    "zeros_array = np.zeros((3, 4))  # 3x4 matrix of zeros\n",
    "print(\"NumPy array of zeros:\\n\", zeros_array)"
   ]
  },
  {
   "cell_type": "code",
   "execution_count": 45,
   "metadata": {},
   "outputs": [
    {
     "name": "stdout",
     "output_type": "stream",
     "text": [
      "NumPy array of ones:\n",
      " [[1. 1. 1. 1. 1.]\n",
      " [1. 1. 1. 1. 1.]]\n"
     ]
    }
   ],
   "source": [
    "ones_array = np.ones((2, 5))  # 2x5 matrix of ones\n",
    "print(\"NumPy array of ones:\\n\", ones_array)"
   ]
  },
  {
   "cell_type": "markdown",
   "metadata": {},
   "source": [
    "# Day 12:\n",
    "\n",
    "NumPy arrays and indexing\n"
   ]
  },
  {
   "cell_type": "markdown",
   "metadata": {},
   "source": [
    "## 1. What’s the difference between copy and view?\n",
    "\n",
    "Copy: When you create a copy of a NumPy array, a new array is created, and the original array is not affected by changes made to the copy. This is done using the copy() method.\n",
    "View: When you create a view of a NumPy array, it is essentially a new array object that looks at the same data as the original array. Changes made to the view will affect the original array and vice versa."
   ]
  },
  {
   "cell_type": "code",
   "execution_count": 46,
   "metadata": {},
   "outputs": [
    {
     "data": {
      "text/plain": [
       "array([1, 2, 3, 4, 5])"
      ]
     },
     "execution_count": 46,
     "metadata": {},
     "output_type": "execute_result"
    }
   ],
   "source": [
    "original = np.array([1, 2, 3, 4, 5])\n",
    "original"
   ]
  },
  {
   "cell_type": "code",
   "execution_count": 47,
   "metadata": {},
   "outputs": [
    {
     "name": "stdout",
     "output_type": "stream",
     "text": [
      "Original array after modifying copy: [1 2 3 4 5]\n",
      "Copy array: [10  2  3  4  5]\n"
     ]
    }
   ],
   "source": [
    "# Creating a copy\n",
    "copy_array = original.copy()\n",
    "copy_array[0] = 10\n",
    "print(\"Original array after modifying copy:\", original)\n",
    "print(\"Copy array:\", copy_array)"
   ]
  },
  {
   "cell_type": "code",
   "execution_count": 48,
   "metadata": {},
   "outputs": [
    {
     "name": "stdout",
     "output_type": "stream",
     "text": [
      "Original array after modifying view: [10  2  3  4  5]\n",
      "View array: [10  2  3  4  5]\n"
     ]
    }
   ],
   "source": [
    "view_array = original.view()\n",
    "view_array[0] = 10\n",
    "print(\"Original array after modifying view:\", original)\n",
    "print(\"View array:\", view_array) "
   ]
  },
  {
   "cell_type": "markdown",
   "metadata": {},
   "source": [
    "## 2. What’s the difference between np.concatenate & np.stack\n",
    "\n",
    "np.concatenate: Joins a sequence of arrays along an existing axis. You can specify the axis along which to concatenate using the axis parameter.\n",
    "\n",
    "np.stack: Joins a sequence of arrays along a new axis. This effectively increases the number of dimensions of the resulting array.\n"
   ]
  },
  {
   "cell_type": "code",
   "execution_count": 50,
   "metadata": {},
   "outputs": [],
   "source": [
    "arr1 = np.array([[1, 2], [3, 4]])\n",
    "arr2 = np.array([[5, 6], [7, 8]])\n"
   ]
  },
  {
   "cell_type": "code",
   "execution_count": 40,
   "metadata": {},
   "outputs": [
    {
     "name": "stdout",
     "output_type": "stream",
     "text": [
      "Concatenate along rows:\n",
      " [[1 2]\n",
      " [3 4]\n",
      " [5 6]\n",
      " [7 8]]\n"
     ]
    }
   ],
   "source": [
    "\n",
    "# Concatenate along the first axis (rows)\n",
    "concat_array = np.concatenate((arr1, arr2), axis=0)\n",
    "print(\"Concatenate along rows:\\n\", concat_array)\n"
   ]
  },
  {
   "cell_type": "code",
   "execution_count": 41,
   "metadata": {},
   "outputs": [
    {
     "name": "stdout",
     "output_type": "stream",
     "text": [
      "Stack along a new axis:\n",
      " [[[1 2]\n",
      "  [3 4]]\n",
      "\n",
      " [[5 6]\n",
      "  [7 8]]]\n"
     ]
    }
   ],
   "source": [
    "# Stack along a new axis\n",
    "stack_array = np.stack((arr1, arr2), axis=0)\n",
    "print(\"Stack along a new axis:\\n\", stack_array)"
   ]
  },
  {
   "cell_type": "code",
   "execution_count": 53,
   "metadata": {},
   "outputs": [
    {
     "data": {
      "text/plain": [
       "array([[1, 2],\n",
       "       [3, 4]])"
      ]
     },
     "execution_count": 53,
     "metadata": {},
     "output_type": "execute_result"
    }
   ],
   "source": [
    "arr1"
   ]
  },
  {
   "cell_type": "code",
   "execution_count": 54,
   "metadata": {},
   "outputs": [
    {
     "data": {
      "text/plain": [
       "array([[5, 6],\n",
       "       [7, 8]])"
      ]
     },
     "execution_count": 54,
     "metadata": {},
     "output_type": "execute_result"
    }
   ],
   "source": [
    "arr2"
   ]
  },
  {
   "cell_type": "code",
   "execution_count": 51,
   "metadata": {},
   "outputs": [
    {
     "data": {
      "text/plain": [
       "array([[[1, 2],\n",
       "        [3, 4]],\n",
       "\n",
       "       [[5, 6],\n",
       "        [7, 8]]])"
      ]
     },
     "execution_count": 51,
     "metadata": {},
     "output_type": "execute_result"
    }
   ],
   "source": [
    "np.stack((arr1, arr2), axis=0)"
   ]
  },
  {
   "cell_type": "code",
   "execution_count": 52,
   "metadata": {},
   "outputs": [
    {
     "data": {
      "text/plain": [
       "array([[[1, 2],\n",
       "        [5, 6]],\n",
       "\n",
       "       [[3, 4],\n",
       "        [7, 8]]])"
      ]
     },
     "execution_count": 52,
     "metadata": {},
     "output_type": "execute_result"
    }
   ],
   "source": [
    "np.stack((arr1, arr2), axis=1)"
   ]
  },
  {
   "cell_type": "markdown",
   "metadata": {},
   "source": [
    "## 3. Create an array of shape (3, 4),\n",
    " using indexing:\n"
   ]
  },
  {
   "cell_type": "code",
   "execution_count": 55,
   "metadata": {},
   "outputs": [
    {
     "data": {
      "text/plain": [
       "array([[ 1,  2,  3,  4],\n",
       "       [ 5,  6,  7,  8],\n",
       "       [ 9, 10, 11, 12]])"
      ]
     },
     "execution_count": 55,
     "metadata": {},
     "output_type": "execute_result"
    }
   ],
   "source": [
    "array = np.array([[1, 2, 3, 4],\n",
    "                  [5, 6, 7, 8],\n",
    "                  [9, 10, 11, 12]])\n",
    "\n",
    "array"
   ]
  },
  {
   "cell_type": "markdown",
   "metadata": {},
   "source": [
    "### 3a Get the 3rd item in the 2nd row\n"
   ]
  },
  {
   "cell_type": "code",
   "execution_count": 56,
   "metadata": {},
   "outputs": [
    {
     "name": "stdout",
     "output_type": "stream",
     "text": [
      "3rd item in the 2nd row: 7\n"
     ]
    }
   ],
   "source": [
    "item_3_2 = array[1, 2]\n",
    "print(\"3rd item in the 2nd row:\", item_3_2) "
   ]
  },
  {
   "cell_type": "markdown",
   "metadata": {},
   "source": [
    "### 3b Get last item in the 1st row\n"
   ]
  },
  {
   "cell_type": "code",
   "execution_count": 44,
   "metadata": {},
   "outputs": [
    {
     "name": "stdout",
     "output_type": "stream",
     "text": [
      "Last item in the 1st row: 4\n"
     ]
    }
   ],
   "source": [
    "last_item_1 = array[0, -1]\n",
    "print(\"Last item in the 1st row:\", last_item_1)"
   ]
  },
  {
   "cell_type": "code",
   "execution_count": 57,
   "metadata": {},
   "outputs": [
    {
     "data": {
      "text/plain": [
       "4"
      ]
     },
     "execution_count": 57,
     "metadata": {},
     "output_type": "execute_result"
    }
   ],
   "source": [
    "array[0, 3]"
   ]
  },
  {
   "cell_type": "markdown",
   "metadata": {},
   "source": [
    "### 3c Get last item in  the last row\n"
   ]
  },
  {
   "cell_type": "code",
   "execution_count": 45,
   "metadata": {},
   "outputs": [
    {
     "name": "stdout",
     "output_type": "stream",
     "text": [
      "Last item in the last row: 12\n"
     ]
    }
   ],
   "source": [
    "last_item_last = array[-1, -1]\n",
    "print(\"Last item in the last row:\", last_item_last)"
   ]
  },
  {
   "cell_type": "markdown",
   "metadata": {},
   "source": [
    "### 3d Get 1st item in the first row\n"
   ]
  },
  {
   "cell_type": "code",
   "execution_count": 46,
   "metadata": {},
   "outputs": [
    {
     "name": "stdout",
     "output_type": "stream",
     "text": [
      "1st item in the 1st row: 1\n"
     ]
    }
   ],
   "source": [
    "first_item_1 = array[0, 0]\n",
    "print(\"1st item in the 1st row:\", first_item_1)"
   ]
  },
  {
   "cell_type": "markdown",
   "metadata": {},
   "source": [
    "### 3e Get 1st item in the 2nd row\n"
   ]
  },
  {
   "cell_type": "code",
   "execution_count": 58,
   "metadata": {},
   "outputs": [
    {
     "name": "stdout",
     "output_type": "stream",
     "text": [
      "1st item in the 2nd row: 5\n"
     ]
    }
   ],
   "source": [
    "first_item_2 = array[1, 0]\n",
    "print(\"1st item in the 2nd row:\", first_item_2)"
   ]
  },
  {
   "cell_type": "markdown",
   "metadata": {},
   "source": [
    "### 3f Get last 2 columns of the 1st 2 rows\n"
   ]
  },
  {
   "cell_type": "code",
   "execution_count": 48,
   "metadata": {},
   "outputs": [
    {
     "name": "stdout",
     "output_type": "stream",
     "text": [
      "Last 2 columns of the 1st 2 rows:\n",
      " [[3 4]\n",
      " [7 8]]\n"
     ]
    }
   ],
   "source": [
    "last_2_cols = array[:2, -2:]\n",
    "print(\"Last 2 columns of the 1st 2 rows:\\n\", last_2_cols)"
   ]
  },
  {
   "cell_type": "markdown",
   "metadata": {},
   "source": [
    "### 3g Get the second row of the array\n"
   ]
  },
  {
   "cell_type": "code",
   "execution_count": 49,
   "metadata": {},
   "outputs": [
    {
     "name": "stdout",
     "output_type": "stream",
     "text": [
      "Second row of the array: [5 6 7 8]\n"
     ]
    }
   ],
   "source": [
    "second_row = array[1, :]\n",
    "print(\"Second row of the array:\", second_row)"
   ]
  },
  {
   "cell_type": "markdown",
   "metadata": {},
   "source": [
    "### 3h Get the last column of the array\n"
   ]
  },
  {
   "cell_type": "code",
   "execution_count": 50,
   "metadata": {},
   "outputs": [
    {
     "name": "stdout",
     "output_type": "stream",
     "text": [
      "Last column of the array: [ 4  8 12]\n"
     ]
    }
   ],
   "source": [
    "last_column = array[:, -1]\n",
    "print(\"Last column of the array:\", last_column)"
   ]
  },
  {
   "cell_type": "markdown",
   "metadata": {},
   "source": [
    "### 3i Set the element in the 1st row, 3rd column to 10\n"
   ]
  },
  {
   "cell_type": "code",
   "execution_count": 51,
   "metadata": {},
   "outputs": [
    {
     "name": "stdout",
     "output_type": "stream",
     "text": [
      "Array after setting element in 1st row, 3rd column to 10:\n",
      " [[ 1  2 10  4]\n",
      " [ 5  6  7  8]\n",
      " [ 9 10 11 12]]\n"
     ]
    }
   ],
   "source": [
    "array[0, 2] = 10\n",
    "print(\"Array after setting element in 1st row, 3rd column to 10:\\n\", array)"
   ]
  },
  {
   "cell_type": "markdown",
   "metadata": {},
   "source": [
    "## 4.  Create two NumPy arrays 3 by 3 arrays (arr1 & arr2)\n"
   ]
  },
  {
   "cell_type": "code",
   "execution_count": 52,
   "metadata": {},
   "outputs": [],
   "source": [
    "arr1 = np.array([[1, 2, 3], \n",
    "                 [4, 5, 6], \n",
    "                 [7, 8, 9]])\n",
    "\n",
    "arr2 = np.array([[10, 11, 12], \n",
    "                 [13, 14, 15], \n",
    "                 [16, 17, 18]])"
   ]
  },
  {
   "cell_type": "markdown",
   "metadata": {},
   "source": [
    "### 4a Concatenate arrays vertically (along rows)\n"
   ]
  },
  {
   "cell_type": "code",
   "execution_count": 53,
   "metadata": {},
   "outputs": [
    {
     "name": "stdout",
     "output_type": "stream",
     "text": [
      "Concatenate vertically:\n",
      " [[ 1  2  3]\n",
      " [ 4  5  6]\n",
      " [ 7  8  9]\n",
      " [10 11 12]\n",
      " [13 14 15]\n",
      " [16 17 18]]\n"
     ]
    }
   ],
   "source": [
    "vertical_concat = np.concatenate((arr1, arr2), axis=0)\n",
    "print(\"Concatenate vertically:\\n\", vertical_concat)"
   ]
  },
  {
   "cell_type": "markdown",
   "metadata": {},
   "source": [
    "### 4b Concatenate arrays horizontally (along columns)\n"
   ]
  },
  {
   "cell_type": "code",
   "execution_count": 54,
   "metadata": {},
   "outputs": [
    {
     "name": "stdout",
     "output_type": "stream",
     "text": [
      "Concatenate horizontally:\n",
      " [[ 1  2  3 10 11 12]\n",
      " [ 4  5  6 13 14 15]\n",
      " [ 7  8  9 16 17 18]]\n"
     ]
    }
   ],
   "source": [
    "horizontal_concat = np.concatenate((arr1, arr2), axis=1)\n",
    "print(\"Concatenate horizontally:\\n\", horizontal_concat)"
   ]
  },
  {
   "cell_type": "markdown",
   "metadata": {},
   "source": [
    "## 5. Create a 1 dimensional array of 10 integers:\n"
   ]
  },
  {
   "cell_type": "code",
   "execution_count": 60,
   "metadata": {},
   "outputs": [],
   "source": [
    "one_d_array = np.array([10, 15, 22, 33, 40, 55, 60, 75, 80, 95])"
   ]
  },
  {
   "cell_type": "markdown",
   "metadata": {},
   "source": [
    "### 5a Filter even numbers from the array\n"
   ]
  },
  {
   "cell_type": "code",
   "execution_count": 61,
   "metadata": {},
   "outputs": [
    {
     "name": "stdout",
     "output_type": "stream",
     "text": [
      "Even numbers: [10 22 40 60 80]\n"
     ]
    }
   ],
   "source": [
    "even_numbers = one_d_array[one_d_array % 2 == 0]\n",
    "print(\"Even numbers:\", even_numbers)"
   ]
  },
  {
   "cell_type": "markdown",
   "metadata": {},
   "source": [
    "### 5b Check if value 5 exists in the array\n"
   ]
  },
  {
   "cell_type": "code",
   "execution_count": 57,
   "metadata": {},
   "outputs": [
    {
     "name": "stdout",
     "output_type": "stream",
     "text": [
      "Contains 5: False\n"
     ]
    }
   ],
   "source": [
    "contains_five = 5 in one_d_array\n",
    "print(\"Contains 5:\", contains_five)"
   ]
  },
  {
   "cell_type": "code",
   "execution_count": 63,
   "metadata": {},
   "outputs": [
    {
     "data": {
      "text/plain": [
       "True"
      ]
     },
     "execution_count": 63,
     "metadata": {},
     "output_type": "execute_result"
    }
   ],
   "source": [
    "60 in one_d_array"
   ]
  },
  {
   "cell_type": "markdown",
   "metadata": {},
   "source": [
    "### 5c Sort the array in ascending order\n"
   ]
  },
  {
   "cell_type": "code",
   "execution_count": 58,
   "metadata": {},
   "outputs": [
    {
     "name": "stdout",
     "output_type": "stream",
     "text": [
      "Sorted array in ascending order: [10 15 22 33 40 55 60 75 80 95]\n"
     ]
    }
   ],
   "source": [
    "sorted_array_asc = np.sort(one_d_array)\n",
    "print(\"Sorted array in ascending order:\", sorted_array_asc)"
   ]
  },
  {
   "cell_type": "markdown",
   "metadata": {},
   "source": [
    "### 5d Sort the array in descending order\n"
   ]
  },
  {
   "cell_type": "code",
   "execution_count": 59,
   "metadata": {},
   "outputs": [
    {
     "name": "stdout",
     "output_type": "stream",
     "text": [
      "Sorted array in descending order: [95 80 75 60 55 40 33 22 15 10]\n"
     ]
    }
   ],
   "source": [
    "sorted_array_desc = np.sort(one_d_array)[::-1]\n",
    "print(\"Sorted array in descending order:\", sorted_array_desc)"
   ]
  },
  {
   "cell_type": "markdown",
   "metadata": {},
   "source": [
    "# Day 13:\n",
    "Focus:\n",
    "NumPy array operations, manipulation, aggregation and statistical functions\n"
   ]
  },
  {
   "cell_type": "markdown",
   "metadata": {},
   "source": [
    "## 1. Highlight some common mathematical operations that can be performed on NumPy arrays.\n",
    "\n",
    "\n",
    "Element-wise Operations: Addition, subtraction, multiplication, and division of arrays.\n",
    "\n",
    "Aggregation Functions: Sum, mean, median, minimum, maximum, standard deviation, variance.\n",
    "\n",
    "Linear Algebra: Matrix multiplication, dot product, eigenvalues, eigenvectors.\n",
    "\n",
    "Trigonometric Functions: Sine, cosine, tangent, inverse sine, inverse cosine, inverse tangent.\n",
    "\n",
    "Exponential and Logarithmic Functions: Exponential, natural logarithm, base 10 logarithm"
   ]
  },
  {
   "cell_type": "markdown",
   "metadata": {},
   "source": [
    "## 2. Difference between Python aggregate functions and NumPy aggregate functions\n",
    "\n",
    "Python aggregate functions, such as sum(), min(), max(), len(), are built-in functions that operate on iterables like lists, tuples, or sets, and return a single result.\n",
    "\n",
    "NumPy aggregate functions, such as np.sum(), np.min(), np.max(), np.mean(), np.median(), np.std(), np.var(), are specifically designed to operate on NumPy arrays. They offer optimized performance for numerical computations and can handle multi-dimensional arrays efficiently."
   ]
  },
  {
   "cell_type": "markdown",
   "metadata": {},
   "source": [
    "## 3 Create a NumPy  3 by 3 array  and perform statistical operations\n"
   ]
  },
  {
   "cell_type": "code",
   "execution_count": 66,
   "metadata": {},
   "outputs": [],
   "source": [
    "array = np.array([[1, 2, 3],\n",
    "                  [7, 8, 9],\n",
    "                  [3, 6, 1]\n",
    "                  ])"
   ]
  },
  {
   "cell_type": "markdown",
   "metadata": {},
   "source": [
    "### 3a Masking: Replace values greater than 5 with 0\n"
   ]
  },
  {
   "cell_type": "code",
   "execution_count": 61,
   "metadata": {},
   "outputs": [
    {
     "data": {
      "text/plain": [
       "array([[1, 2, 3],\n",
       "       [0, 0, 0],\n",
       "       [3, 0, 1]])"
      ]
     },
     "execution_count": 61,
     "metadata": {},
     "output_type": "execute_result"
    }
   ],
   "source": [
    "masked_array = np.where(array > 5, 0, array)\n",
    "masked_array"
   ]
  },
  {
   "cell_type": "markdown",
   "metadata": {},
   "source": [
    "### 3b Sorting: Sort rows based on the second column\n"
   ]
  },
  {
   "cell_type": "code",
   "execution_count": 67,
   "metadata": {},
   "outputs": [
    {
     "data": {
      "text/plain": [
       "array([[1, 2, 3],\n",
       "       [7, 8, 9],\n",
       "       [3, 6, 1]])"
      ]
     },
     "execution_count": 67,
     "metadata": {},
     "output_type": "execute_result"
    }
   ],
   "source": [
    "array"
   ]
  },
  {
   "cell_type": "code",
   "execution_count": 68,
   "metadata": {},
   "outputs": [
    {
     "data": {
      "text/plain": [
       "array([[1, 2, 3],\n",
       "       [3, 6, 1],\n",
       "       [7, 8, 9]])"
      ]
     },
     "execution_count": 68,
     "metadata": {},
     "output_type": "execute_result"
    }
   ],
   "source": [
    "sorted_array = array[array[:, 1].argsort()]\n",
    "sorted_array"
   ]
  },
  {
   "cell_type": "markdown",
   "metadata": {},
   "source": [
    "### 3c Unique Values: Extract unique elements and their counts\n"
   ]
  },
  {
   "cell_type": "code",
   "execution_count": 71,
   "metadata": {},
   "outputs": [
    {
     "data": {
      "text/plain": [
       "(array([1, 2, 3, 6, 7, 8, 9]), array([2, 1, 2, 1, 1, 1, 1], dtype=int64))"
      ]
     },
     "execution_count": 71,
     "metadata": {},
     "output_type": "execute_result"
    }
   ],
   "source": [
    "np.unique(array, return_counts=True)"
   ]
  },
  {
   "cell_type": "code",
   "execution_count": 69,
   "metadata": {},
   "outputs": [],
   "source": [
    "unique_values, counts = np.unique(array, return_counts=True)"
   ]
  },
  {
   "cell_type": "code",
   "execution_count": 70,
   "metadata": {},
   "outputs": [
    {
     "data": {
      "text/plain": [
       "{1: 2, 2: 1, 3: 2, 6: 1, 7: 1, 8: 1, 9: 1}"
      ]
     },
     "execution_count": 70,
     "metadata": {},
     "output_type": "execute_result"
    }
   ],
   "source": [
    "dict(zip(unique_values, counts))"
   ]
  },
  {
   "cell_type": "markdown",
   "metadata": {},
   "source": [
    "### 3d Get the range, min and max values\n"
   ]
  },
  {
   "cell_type": "code",
   "execution_count": 72,
   "metadata": {},
   "outputs": [
    {
     "name": "stdout",
     "output_type": "stream",
     "text": [
      "Range: 8\n",
      "Min Value: 1\n",
      "Max Value: 9\n"
     ]
    }
   ],
   "source": [
    "array_range = np.ptp(array)\n",
    "array_min = np.min(array)\n",
    "array_max = np.max(array)\n",
    "\n",
    "print(\"Range:\", array_range)\n",
    "print(\"Min Value:\", array_min)\n",
    "print(\"Max Value:\", array_max)"
   ]
  },
  {
   "cell_type": "markdown",
   "metadata": {},
   "source": [
    "## 4. Create a random NumPy 4 by 6 array of int between 1 and 100 using a specific seed\n"
   ]
  },
  {
   "cell_type": "code",
   "execution_count": 79,
   "metadata": {},
   "outputs": [
    {
     "data": {
      "text/plain": [
       "array([[45, 48, 65, 68, 68, 10],\n",
       "       [84, 22, 37, 88, 71, 89],\n",
       "       [89, 13, 59, 66, 40, 88],\n",
       "       [47, 89, 82, 38, 26, 78]])"
      ]
     },
     "execution_count": 79,
     "metadata": {},
     "output_type": "execute_result"
    }
   ],
   "source": [
    "# Set a specific seed for reproducibility\n",
    "np.random.seed(0)\n",
    "\n",
    "# Create a 4x6 NumPy array of integers between 1 and 100\n",
    "random_array = np.random.randint(1, 101, size=(4, 6))\n",
    "random_array"
   ]
  },
  {
   "cell_type": "markdown",
   "metadata": {},
   "source": [
    "### 4a Sorting: Sort each row in descending order\n"
   ]
  },
  {
   "cell_type": "code",
   "execution_count": 80,
   "metadata": {},
   "outputs": [
    {
     "data": {
      "text/plain": [
       "array([[68, 68, 65, 48, 45, 10],\n",
       "       [89, 88, 84, 71, 37, 22],\n",
       "       [89, 88, 66, 59, 40, 13],\n",
       "       [89, 82, 78, 47, 38, 26]])"
      ]
     },
     "execution_count": 80,
     "metadata": {},
     "output_type": "execute_result"
    }
   ],
   "source": [
    "sorted_descending = np.sort(random_array, axis=1)[:, ::-1]\n",
    "sorted_descending"
   ]
  },
  {
   "cell_type": "markdown",
   "metadata": {},
   "source": [
    "### 4b Aggregation: Compute sum, mean, min, and max along different axes\n"
   ]
  },
  {
   "cell_type": "code",
   "execution_count": 81,
   "metadata": {},
   "outputs": [
    {
     "data": {
      "text/plain": [
       "array([[45, 48, 65, 68, 68, 10],\n",
       "       [84, 22, 37, 88, 71, 89],\n",
       "       [89, 13, 59, 66, 40, 88],\n",
       "       [47, 89, 82, 38, 26, 78]])"
      ]
     },
     "execution_count": 81,
     "metadata": {},
     "output_type": "execute_result"
    }
   ],
   "source": [
    "random_array"
   ]
  },
  {
   "cell_type": "code",
   "execution_count": 82,
   "metadata": {},
   "outputs": [],
   "source": [
    "sum_axis0 = np.sum(random_array, axis=0)\n",
    "sum_axis1 = np.sum(random_array, axis=1)\n",
    "mean_axis0 = np.mean(random_array, axis=0)\n",
    "mean_axis1 = np.mean(random_array, axis=1)\n",
    "min_axis0 = np.min(random_array, axis=0)\n",
    "min_axis1 = np.min(random_array, axis=1)\n",
    "max_axis0 = np.max(random_array, axis=0)\n",
    "max_axis1 = np.max(random_array, axis=1)"
   ]
  },
  {
   "cell_type": "code",
   "execution_count": 84,
   "metadata": {},
   "outputs": [
    {
     "name": "stdout",
     "output_type": "stream",
     "text": [
      "Sum along axis 0: [265 172 243 260 205 265]\n",
      "Sum along axis 1: [304 391 355 360]\n",
      "Mean along axis 0: [66.25 43.   60.75 65.   51.25 66.25]\n",
      "Mean along axis 1: [50.66666667 65.16666667 59.16666667 60.        ]\n",
      "Min along axis 0: [45 13 37 38 26 10]\n",
      "Min along axis 1: [10 22 13 26]\n",
      "Max along axis 0: [89 89 82 88 71 89]\n",
      "Max along axis 1: [68 89 89 89]\n"
     ]
    }
   ],
   "source": [
    "print(\"Sum along axis 0:\", sum_axis0)\n",
    "print(\"Sum along axis 1:\", sum_axis1)\n",
    "print(\"Mean along axis 0:\", mean_axis0)\n",
    "print(\"Mean along axis 1:\", mean_axis1)\n",
    "print(\"Min along axis 0:\", min_axis0)\n",
    "print(\"Min along axis 1:\", min_axis1)\n",
    "print(\"Max along axis 0:\", max_axis0)\n",
    "print(\"Max along axis 1:\", max_axis1)"
   ]
  },
  {
   "cell_type": "markdown",
   "metadata": {},
   "source": [
    "### 4c Statistical Analysis: Compute median and percentile\n"
   ]
  },
  {
   "cell_type": "code",
   "execution_count": 70,
   "metadata": {},
   "outputs": [],
   "source": [
    "median = np.median(random_array)\n",
    "percentile_25 = np.percentile(random_array, 25)\n",
    "percentile_75 = np.percentile(random_array, 75)"
   ]
  },
  {
   "cell_type": "code",
   "execution_count": 71,
   "metadata": {},
   "outputs": [
    {
     "name": "stdout",
     "output_type": "stream",
     "text": [
      "Median: 65.5\n",
      "25th Percentile: 39.5\n",
      "75th Percentile: 82.5\n"
     ]
    }
   ],
   "source": [
    "print(\"Median:\", median)\n",
    "print(\"25th Percentile:\", percentile_25)\n",
    "print(\"75th Percentile:\", percentile_75)\n"
   ]
  },
  {
   "cell_type": "markdown",
   "metadata": {},
   "source": [
    "### 4d Statistical Functions: Compute standard deviation and variance\n"
   ]
  },
  {
   "cell_type": "code",
   "execution_count": 72,
   "metadata": {},
   "outputs": [],
   "source": [
    "std_deviation = np.std(random_array)\n",
    "variance = np.var(random_array)"
   ]
  },
  {
   "cell_type": "code",
   "execution_count": 73,
   "metadata": {},
   "outputs": [
    {
     "name": "stdout",
     "output_type": "stream",
     "text": [
      "Standard Deviation: 25.007082330145327\n",
      "Variance: 625.3541666666666\n"
     ]
    }
   ],
   "source": [
    "print(\"Standard Deviation:\", std_deviation)\n",
    "print(\"Variance:\", variance)"
   ]
  },
  {
   "cell_type": "markdown",
   "metadata": {},
   "source": [
    "## 5 Create an array of 10 fruits, randomly select 4 fruits from the array\n"
   ]
  },
  {
   "cell_type": "code",
   "execution_count": 89,
   "metadata": {},
   "outputs": [
    {
     "name": "stdout",
     "output_type": "stream",
     "text": [
      "Selected Fruits: ['apple' 'strawberry' 'orange' 'grape']\n"
     ]
    }
   ],
   "source": [
    "fruits = np.array(['apple', 'banana', 'orange', 'grape', 'mango', 'pear', 'pineapple', 'kiwi', 'watermelon', 'strawberry'])\n",
    "\n",
    "# Randomly select 4 fruits from the array\n",
    "selected_fruits = np.random.choice(fruits, size=4, replace=False)\n",
    "\n",
    "# Print the selected fruits\n",
    "print(\"Selected Fruits:\", selected_fruits)"
   ]
  },
  {
   "cell_type": "markdown",
   "metadata": {},
   "source": [
    "# Day 14\n",
    "Rest Day\n",
    "\n",
    "![alt text](../Images/Day%2014.png)"
   ]
  }
 ],
 "metadata": {
  "kernelspec": {
   "display_name": "python12",
   "language": "python",
   "name": "python3"
  },
  "language_info": {
   "codemirror_mode": {
    "name": "ipython",
    "version": 3
   },
   "file_extension": ".py",
   "mimetype": "text/x-python",
   "name": "python",
   "nbconvert_exporter": "python",
   "pygments_lexer": "ipython3",
   "version": "3.12.2"
  }
 },
 "nbformat": 4,
 "nbformat_minor": 2
}
